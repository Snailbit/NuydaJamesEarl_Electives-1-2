{
  "nbformat": 4,
  "nbformat_minor": 0,
  "metadata": {
    "colab": {
      "name": "Electives",
      "provenance": [],
      "collapsed_sections": [],
      "authorship_tag": "ABX9TyODX7rEw4nH/dyEbi4iw0QQ",
      "include_colab_link": true
    },
    "kernelspec": {
      "name": "python3",
      "display_name": "Python 3"
    },
    "language_info": {
      "name": "python"
    }
  },
  "cells": [
    {
      "cell_type": "markdown",
      "metadata": {
        "id": "view-in-github",
        "colab_type": "text"
      },
      "source": [
        "<a href=\"https://colab.research.google.com/github/Snailbit/NuydaJamesEarl_Electives-1-2/blob/main/Electives.ipynb\" target=\"_parent\"><img src=\"https://colab.research.google.com/assets/colab-badge.svg\" alt=\"Open In Colab\"/></a>"
      ]
    },
    {
      "cell_type": "markdown",
      "source": [
        "Introduction to Python"
      ],
      "metadata": {
        "id": "Qkp4RfarfIzo"
      }
    },
    {
      "cell_type": "code",
      "execution_count": null,
      "metadata": {
        "colab": {
          "base_uri": "https://localhost:8080/"
        },
        "id": "kBXbwxbNe9uR",
        "outputId": "e9c688cd-928e-447b-bc3a-63b0ffd52d17"
      },
      "outputs": [
        {
          "output_type": "stream",
          "name": "stdout",
          "text": [
            "True\n",
            "False\n"
          ]
        }
      ],
      "source": [
        "print(6>5) #displayed\n",
        "print(7<3) #displayed"
      ]
    },
    {
      "cell_type": "code",
      "source": [
        "(4>5) #not displayed\n",
        "(8==8) #displayed"
      ],
      "metadata": {
        "colab": {
          "base_uri": "https://localhost:8080/"
        },
        "id": "EuI5drWZfhZA",
        "outputId": "45d94e08-02f7-4029-9321-268ac45eda77"
      },
      "execution_count": null,
      "outputs": [
        {
          "output_type": "execute_result",
          "data": {
            "text/plain": [
              "True"
            ]
          },
          "metadata": {},
          "execution_count": 2
        }
      ]
    },
    {
      "cell_type": "markdown",
      "source": [
        "If needing to display many outputs, use print, if needing to display only one, you may not use print"
      ],
      "metadata": {
        "id": "afEY5nDmfxFJ"
      }
    },
    {
      "cell_type": "markdown",
      "source": [
        "Boolean"
      ],
      "metadata": {
        "id": "9RyiJS2xf8t9"
      }
    },
    {
      "cell_type": "code",
      "source": [
        "print(bool(\"cat\")) \n",
        "print(bool(8))\n",
        "#if boolean has value or represent\n",
        "#something, then it is true\n",
        "\n",
        "print(bool(0))\n",
        "print(bool(None))\n",
        "#None represent nothing and has no\n",
        "#value, therefore boolean is false"
      ],
      "metadata": {
        "colab": {
          "base_uri": "https://localhost:8080/"
        },
        "id": "_YE1kmCQgBc6",
        "outputId": "3dcc6a38-ae59-4011-affd-80ea2f7d92fd"
      },
      "execution_count": null,
      "outputs": [
        {
          "output_type": "stream",
          "name": "stdout",
          "text": [
            "True\n",
            "True\n",
            "False\n",
            "False\n"
          ]
        }
      ]
    },
    {
      "cell_type": "markdown",
      "source": [
        "Functions"
      ],
      "metadata": {
        "id": "wwpXvN6fgqUU"
      }
    },
    {
      "cell_type": "code",
      "source": [
        "def aFunction():\n",
        " return False\n",
        "\n",
        "aFunction()"
      ],
      "metadata": {
        "colab": {
          "base_uri": "https://localhost:8080/"
        },
        "id": "H9GukEDfgrsQ",
        "outputId": "7535a005-efa7-4fe9-f4ac-83b84f3a15c3"
      },
      "execution_count": null,
      "outputs": [
        {
          "output_type": "execute_result",
          "data": {
            "text/plain": [
              "False"
            ]
          },
          "metadata": {},
          "execution_count": 8
        }
      ]
    },
    {
      "cell_type": "code",
      "source": [
        "def bfunction():\n",
        " return True\n",
        "\n",
        "if bfunction():\n",
        " print(\"rawr\")\n",
        "else:\n",
        " print(\"meow\")\n",
        "#since bfunction is true, \"rawr\"\n",
        "#is displayed instead of meow"
      ],
      "metadata": {
        "colab": {
          "base_uri": "https://localhost:8080/"
        },
        "id": "PvQ9eeOahKd4",
        "outputId": "43e92344-5e8e-4c53-8ed5-1b26524782e6"
      },
      "execution_count": null,
      "outputs": [
        {
          "output_type": "stream",
          "name": "stdout",
          "text": [
            "rawr\n"
          ]
        }
      ]
    },
    {
      "cell_type": "markdown",
      "source": [
        "Application"
      ],
      "metadata": {
        "id": "YdYhhuE5hhnc"
      }
    },
    {
      "cell_type": "code",
      "source": [
        "print(4>7)\n",
        "\n",
        "a=6\n",
        "b=29\n",
        "print(a==b)\n",
        "print(a!=a)"
      ],
      "metadata": {
        "colab": {
          "base_uri": "https://localhost:8080/"
        },
        "id": "wWRxvqUGhxUN",
        "outputId": "e88b2377-b0bd-454f-987b-8a8acbb60e08"
      },
      "execution_count": null,
      "outputs": [
        {
          "output_type": "stream",
          "name": "stdout",
          "text": [
            "False\n",
            "False\n",
            "False\n"
          ]
        }
      ]
    },
    {
      "cell_type": "markdown",
      "source": [
        "Python operators"
      ],
      "metadata": {
        "id": "tf_fcwh3h_sO"
      }
    },
    {
      "cell_type": "code",
      "source": [
        "#Arithmetic\n",
        "\n",
        "print(4+7)\n",
        "print(9-6)\n",
        "print(3*5)\n",
        "print(355/113)\n",
        "print(7%3) #modulo=remainder\n",
        "print(7//3) #only gets integer\n",
        "print(4**3) #exponent"
      ],
      "metadata": {
        "colab": {
          "base_uri": "https://localhost:8080/"
        },
        "id": "Wi05bSDqiBlS",
        "outputId": "7715c27b-7d68-4ac4-9b6e-8804968ad98f"
      },
      "execution_count": null,
      "outputs": [
        {
          "output_type": "stream",
          "name": "stdout",
          "text": [
            "11\n",
            "3\n",
            "15\n",
            "3.1415929203539825\n",
            "1\n",
            "2\n",
            "64\n"
          ]
        }
      ]
    },
    {
      "cell_type": "code",
      "source": [
        "#bitwise\n",
        "\n",
        "a=40\n",
        "b=10\n",
        "\n",
        "print(a&b)\n",
        "print(a|b)\n",
        "print(a^b)\n",
        "\n",
        "a>>1"
      ],
      "metadata": {
        "colab": {
          "base_uri": "https://localhost:8080/"
        },
        "id": "sSaRK2VtiqM7",
        "outputId": "f207c603-6f25-4e82-f5a9-6284e88e5db7"
      },
      "execution_count": null,
      "outputs": [
        {
          "output_type": "stream",
          "name": "stdout",
          "text": [
            "8\n",
            "42\n",
            "34\n"
          ]
        },
        {
          "output_type": "execute_result",
          "data": {
            "text/plain": [
              "20"
            ]
          },
          "metadata": {},
          "execution_count": 14
        }
      ]
    },
    {
      "cell_type": "markdown",
      "source": [
        "Assignment operators"
      ],
      "metadata": {
        "id": "1pDby4qNjGEw"
      }
    },
    {
      "cell_type": "code",
      "source": [
        "a=7\n",
        "a+=3\n",
        "\n",
        "a"
      ],
      "metadata": {
        "colab": {
          "base_uri": "https://localhost:8080/"
        },
        "id": "yVDEZod8jHn4",
        "outputId": "4fb4f558-e912-46f0-f166-4d1ae06bcbb1"
      },
      "execution_count": null,
      "outputs": [
        {
          "output_type": "execute_result",
          "data": {
            "text/plain": [
              "10"
            ]
          },
          "metadata": {},
          "execution_count": 15
        }
      ]
    },
    {
      "cell_type": "code",
      "source": [
        "a=13\n",
        "a//=3\n",
        "\n",
        "a"
      ],
      "metadata": {
        "colab": {
          "base_uri": "https://localhost:8080/"
        },
        "id": "bfM3QF9jjRck",
        "outputId": "4da44436-3bf4-4267-9d25-bffdc3e68373"
      },
      "execution_count": null,
      "outputs": [
        {
          "output_type": "execute_result",
          "data": {
            "text/plain": [
              "4"
            ]
          },
          "metadata": {},
          "execution_count": 16
        }
      ]
    },
    {
      "cell_type": "markdown",
      "source": [
        "Logical operators"
      ],
      "metadata": {
        "id": "-Q4E-YtljgRL"
      }
    },
    {
      "cell_type": "code",
      "source": [
        "x=True\n",
        "y=False\n",
        "\n",
        "print(x and y)\n",
        "print(x or y)"
      ],
      "metadata": {
        "colab": {
          "base_uri": "https://localhost:8080/"
        },
        "id": "1LB050cFjhpu",
        "outputId": "e7593e32-56c5-4752-eeda-5e4c0e4dd23b"
      },
      "execution_count": null,
      "outputs": [
        {
          "output_type": "stream",
          "name": "stdout",
          "text": [
            "False\n",
            "True\n"
          ]
        }
      ]
    },
    {
      "cell_type": "markdown",
      "source": [
        "Identity operators"
      ],
      "metadata": {
        "id": "Omr3HnLTjylg"
      }
    },
    {
      "cell_type": "code",
      "source": [
        "print(x is y)\n",
        "x is not y"
      ],
      "metadata": {
        "colab": {
          "base_uri": "https://localhost:8080/"
        },
        "id": "1Ft0IkC8j0nb",
        "outputId": "86f37ca2-606e-4b39-f9c7-1ec86a39a0ed"
      },
      "execution_count": null,
      "outputs": [
        {
          "output_type": "stream",
          "name": "stdout",
          "text": [
            "False\n"
          ]
        },
        {
          "output_type": "execute_result",
          "data": {
            "text/plain": [
              "True"
            ]
          },
          "metadata": {},
          "execution_count": 19
        }
      ]
    }
  ]
}